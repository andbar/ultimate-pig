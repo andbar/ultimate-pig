{
 "cells": [
  {
   "cell_type": "code",
   "execution_count": 1,
   "metadata": {
    "collapsed": true
   },
   "outputs": [],
   "source": [
    "import random\n",
    "import matplotlib.pyplot as plt"
   ]
  },
  {
   "cell_type": "code",
   "execution_count": 2,
   "metadata": {
    "collapsed": true
   },
   "outputs": [],
   "source": [
    "%matplotlib inline"
   ]
  },
  {
   "cell_type": "code",
   "execution_count": 16,
   "metadata": {
    "collapsed": false
   },
   "outputs": [],
   "source": [
    "class AI_Basic:\n",
    "\n",
    "    def __init__(self):\n",
    "        pass\n",
    "\n",
    "    def ai_continue(self):\n",
    "        raise ImplementationError(\"Must be implemented in subclass\")\n",
    "\n",
    "    def ai_roll(self):\n",
    "        return random.choice([1, 2, 3, 4, 5, 6])\n",
    "    \n",
    "    def ai_turn(self): # rolls once and returns score\n",
    "        turn_score = 0\n",
    "        roll_result = self.ai_roll()\n",
    "        if roll_result == 1:\n",
    "            turn_score = 0\n",
    "        else:\n",
    "            turn_score = roll_result\n",
    "        return turn_score\n",
    "        \n",
    "        \n",
    "class AI_Random(AI_Basic): \n",
    "    \n",
    "    def ai_continue(self):\n",
    "        cont = random.randint(0,1)\n",
    "        if cont == 1:\n",
    "            return True\n",
    "        else:\n",
    "            return False\n",
    "    \n",
    "    def ai_turn(self): # randomly chooses to hold or roll again\n",
    "        turn_score = 0\n",
    "        ai_will_roll = True\n",
    "        count = 0\n",
    "        while ai_will_roll == True:\n",
    "            if count == 0:\n",
    "                roll_result = self.ai_roll()\n",
    "                if roll_result == 1:\n",
    "                    turn_score = 0\n",
    "                    ai_will_roll = False\n",
    "                    count = 1\n",
    "                else:\n",
    "                    turn_score += roll_result\n",
    "                    count = 1\n",
    "            else:\n",
    "                if self.ai_continue() == True:\n",
    "                    roll_result = self.ai_roll()\n",
    "                    if roll_result == 1:\n",
    "                        turn_score = 0\n",
    "                        ai_will_roll = False\n",
    "                    else:\n",
    "                        turn_score += roll_result\n",
    "                else:\n",
    "                    ai_will_roll = False\n",
    "        return turn_score\n",
    "\n",
    "\n",
    "class Game:\n",
    "\n",
    "    def __init__(self, player1, player2, rounds=7):\n",
    "        self.player1 = player1\n",
    "        self.player2 = player2\n",
    "        self.rounds = rounds\n",
    "\n",
    "    def update_player_scores(self, round_scores): #tracks the current score of players\n",
    "        self.p1_score += round_scores[0]\n",
    "        self.p2_score += round_scores[1]\n",
    "\n",
    "    def game_round(self): #plays a round and returns score for each player\n",
    "        player1_round_score = self.player1.ai_turn()\n",
    "        player2_round_score = self.player2.ai_turn()\n",
    "        round_scores = [player1_round_score, player2_round_score]\n",
    "        return round_scores\n",
    "\n",
    "    def game_play(self):\n",
    "        current_round = 1\n",
    "        p1_score = 0\n",
    "        p2_score = 0\n",
    "        while current_round <= self.rounds:\n",
    "            round_scores = self.game_round()\n",
    "            p1_score += round_scores[0]\n",
    "            p2_score += round_scores[1]\n",
    "            current_round += 1\n",
    "        final_score = [p1_score, p2_score]\n",
    "        if p1_score > p2_score:\n",
    "            return 1\n",
    "        elif p1_score < p2_score:\n",
    "            return 2\n",
    "        elif p1_score == p2_score:\n",
    "            return 3\n"
   ]
  },
  {
   "cell_type": "code",
   "execution_count": 17,
   "metadata": {
    "collapsed": true
   },
   "outputs": [],
   "source": [
    "def pig_trials(trials=10):\n",
    "    pig_results = []\n",
    "    for trial in range(trials):\n",
    "        pig_results.append(game.game_play())\n",
    "    return pig_results"
   ]
  },
  {
   "cell_type": "code",
   "execution_count": 43,
   "metadata": {
    "collapsed": false
   },
   "outputs": [],
   "source": [
    "ai_base = AI_Basic()\n",
    "ai_random = AI_Random()\n",
    "game = Game(ai_base, ai_random)"
   ]
  },
  {
   "cell_type": "code",
   "execution_count": 84,
   "metadata": {
    "collapsed": false
   },
   "outputs": [],
   "source": [
    "pt_onehundred = pig_trials(100)"
   ]
  },
  {
   "cell_type": "code",
   "execution_count": 86,
   "metadata": {
    "collapsed": false
   },
   "outputs": [],
   "source": [
    "def pig_final_result(win_list):\n",
    "    p1_wins = 0\n",
    "    p2_wins = 0\n",
    "    ties = 0\n",
    "    for win in win_list:\n",
    "        if win == 1:\n",
    "            p1_wins += 1\n",
    "        elif win == 2:\n",
    "            p2_wins += 1\n",
    "        else:\n",
    "            ties += 1\n",
    "    return [p1_wins, p2_wins, ties]"
   ]
  },
  {
   "cell_type": "code",
   "execution_count": 90,
   "metadata": {
    "collapsed": false
   },
   "outputs": [],
   "source": [
    "trial_results = pig_final_result(pt_onehundred)"
   ]
  },
  {
   "cell_type": "code",
   "execution_count": 110,
   "metadata": {
    "collapsed": false
   },
   "outputs": [
    {
     "data": {
      "image/png": "[encoded data removed]",
      "text/plain": [
       "<matplotlib.figure.Figure at 0x104ef9c18>"
      ]
     },
     "metadata": {},
     "output_type": "display_data"
    }
   ],
   "source": [
    "plt.bar(range(len(trial_results)), trial_results, align=\"center\")\n",
    "plt.xticks([0, 1, 2], [\"Base AI\", \"Random AI\", \"Ties\"])\n",
    "plt.title(\"Total Wins by Player\")\n",
    "plt.xlabel(\"Winning Player\")\n",
    "plt.ylabel(\"Number of Wins\")\n",
    "plt.show()"
   ]
  },
  {
   "cell_type": "markdown",
   "metadata": {},
   "source": [
    "This graph shows the total number of wins over 100 games with the Base AI playing the Random AI. Base AI rolls once then stops. Random AI will randomly choose whether to roll again or hold. It's quite apparent that rolling only once on each turn is a terrible strategy for playing pig solitaire."
   ]
  },
  {
   "cell_type": "code",
   "execution_count": 111,
   "metadata": {
    "collapsed": true
   },
   "outputs": [],
   "source": [
    "pt_thousand = pig_trials(1000)\n",
    "thousand_trials = pig_final_result(pt_thousand)"
   ]
  },
  {
   "cell_type": "code",
   "execution_count": 112,
   "metadata": {
    "collapsed": false
   },
   "outputs": [
    {
     "data": {
      "image/png": "[encoded data removed]",
      "text/plain": [
       "<matplotlib.figure.Figure at 0x104fbc668>"
      ]
     },
     "metadata": {},
     "output_type": "display_data"
    }
   ],
   "source": [
    "plt.bar(range(len(trial_results)), thousand_trials, align=\"center\")\n",
    "plt.xticks([0, 1, 2], [\"Base AI\", \"Random AI\", \"Ties\"])\n",
    "plt.title(\"Total Wins by Player\")\n",
    "plt.xlabel(\"Winning Player\")\n",
    "plt.ylabel(\"Number of Wins\")\n",
    "plt.show()"
   ]
  },
  {
   "cell_type": "markdown",
   "metadata": {},
   "source": [
    "Similar results to above. Random strategy for rolling or holding wins far more often than rolling only once, though rolling only once does occasionally win a game."
   ]
  },
  {
   "cell_type": "code",
   "execution_count": null,
   "metadata": {
    "collapsed": true
   },
   "outputs": [],
   "source": []
  }
 ],
 "metadata": {
  "kernelspec": {
   "display_name": "Python 3",
   "language": "python",
   "name": "python3"
  },
  "language_info": {
   "codemirror_mode": {
    "name": "ipython",
    "version": 3
   },
   "file_extension": ".py",
   "mimetype": "text/x-python",
   "name": "python",
   "nbconvert_exporter": "python",
   "pygments_lexer": "ipython3",
   "version": "3.5.0"
  }
 },
 "nbformat": 4,
 "nbformat_minor": 0
}
